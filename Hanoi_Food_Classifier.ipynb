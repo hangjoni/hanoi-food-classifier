{
  "nbformat": 4,
  "nbformat_minor": 0,
  "metadata": {
    "colab": {
      "name": "Hanoi Food Classifier.ipynb",
      "provenance": [],
      "authorship_tag": "ABX9TyOcb8iNwhRefMnNK8xrY6n8",
      "include_colab_link": true
    },
    "kernelspec": {
      "name": "python3",
      "display_name": "Python 3"
    },
    "language_info": {
      "name": "python"
    },
    "widgets": {
      "application/vnd.jupyter.widget-state+json": {
        "0b665d4b4a644b7783763c21a1c68157": {
          "model_module": "@jupyter-widgets/controls",
          "model_name": "VBoxModel",
          "model_module_version": "1.5.0",
          "state": {
            "_dom_classes": [],
            "_model_module": "@jupyter-widgets/controls",
            "_model_module_version": "1.5.0",
            "_model_name": "VBoxModel",
            "_view_count": null,
            "_view_module": "@jupyter-widgets/controls",
            "_view_module_version": "1.5.0",
            "_view_name": "VBoxView",
            "box_style": "",
            "children": [
              "IPY_MODEL_9683070bf3ee4f8ea775288d425eb03b",
              "IPY_MODEL_19240572a68a419fa49511ecadcad477",
              "IPY_MODEL_844f334a95e5461abb53a0c9f8095243",
              "IPY_MODEL_4551fc993ee14c89afe00d22f3ad4e16"
            ],
            "layout": "IPY_MODEL_523dea9e2bff49d89920c5f3bfd3fad0"
          }
        },
        "9683070bf3ee4f8ea775288d425eb03b": {
          "model_module": "@jupyter-widgets/controls",
          "model_name": "LabelModel",
          "model_module_version": "1.5.0",
          "state": {
            "_dom_classes": [],
            "_model_module": "@jupyter-widgets/controls",
            "_model_module_version": "1.5.0",
            "_model_name": "LabelModel",
            "_view_count": null,
            "_view_module": "@jupyter-widgets/controls",
            "_view_module_version": "1.5.0",
            "_view_name": "LabelView",
            "description": "",
            "description_tooltip": null,
            "layout": "IPY_MODEL_2a875a6de1a648ecb554cb15d1d09d8a",
            "placeholder": "​",
            "style": "IPY_MODEL_224f63c143a7400fbb1adf5b8b4bdf5f",
            "value": "Select your bear!"
          }
        },
        "19240572a68a419fa49511ecadcad477": {
          "model_module": "@jupyter-widgets/controls",
          "model_name": "FileUploadModel",
          "model_module_version": "1.5.0",
          "state": {
            "_counter": 1,
            "_dom_classes": [],
            "_model_module": "@jupyter-widgets/controls",
            "_model_module_version": "1.5.0",
            "_model_name": "FileUploadModel",
            "_view_count": null,
            "_view_module": "@jupyter-widgets/controls",
            "_view_module_version": "1.5.0",
            "_view_name": "FileUploadView",
            "accept": "",
            "button_style": "",
            "data": [
              null
            ],
            "description": "Upload",
            "description_tooltip": null,
            "disabled": false,
            "error": "",
            "icon": "upload",
            "layout": "IPY_MODEL_8f2450617c1842f7978b74caa6fbd23d",
            "metadata": [
              {
                "name": "cat3.jpeg",
                "type": "image/jpeg",
                "size": 4484,
                "lastModified": 1654076193207
              }
            ],
            "multiple": false,
            "style": "IPY_MODEL_eca3dc03ed5445d7a16b8a80375c4a71"
          }
        },
        "844f334a95e5461abb53a0c9f8095243": {
          "model_module": "@jupyter-widgets/output",
          "model_name": "OutputModel",
          "model_module_version": "1.0.0",
          "state": {
            "_dom_classes": [],
            "_model_module": "@jupyter-widgets/output",
            "_model_module_version": "1.0.0",
            "_model_name": "OutputModel",
            "_view_count": null,
            "_view_module": "@jupyter-widgets/output",
            "_view_module_version": "1.0.0",
            "_view_name": "OutputView",
            "layout": "IPY_MODEL_5d6978f819964d6aaecfc64edd3c3ebd",
            "msg_id": "",
            "outputs": [
              {
                "output_type": "display_data",
                "data": {
                  "text/plain": "<PIL.Image.Image image mode=RGB size=128x128 at 0x7F86A2617710>",
                  "image/png": "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\n"
                },
                "metadata": {}
              }
            ]
          }
        },
        "4551fc993ee14c89afe00d22f3ad4e16": {
          "model_module": "@jupyter-widgets/controls",
          "model_name": "LabelModel",
          "model_module_version": "1.5.0",
          "state": {
            "_dom_classes": [],
            "_model_module": "@jupyter-widgets/controls",
            "_model_module_version": "1.5.0",
            "_model_name": "LabelModel",
            "_view_count": null,
            "_view_module": "@jupyter-widgets/controls",
            "_view_module_version": "1.5.0",
            "_view_name": "LabelView",
            "description": "",
            "description_tooltip": null,
            "layout": "IPY_MODEL_984316eaa78646adb4ab8956cf11c05e",
            "placeholder": "​",
            "style": "IPY_MODEL_c99f883970ba4f6d8e4888a9fa835d96",
            "value": "Prediction: teddy; Probability: 0.9999"
          }
        },
        "523dea9e2bff49d89920c5f3bfd3fad0": {
          "model_module": "@jupyter-widgets/base",
          "model_name": "LayoutModel",
          "model_module_version": "1.2.0",
          "state": {
            "_model_module": "@jupyter-widgets/base",
            "_model_module_version": "1.2.0",
            "_model_name": "LayoutModel",
            "_view_count": null,
            "_view_module": "@jupyter-widgets/base",
            "_view_module_version": "1.2.0",
            "_view_name": "LayoutView",
            "align_content": null,
            "align_items": null,
            "align_self": null,
            "border": null,
            "bottom": null,
            "display": null,
            "flex": null,
            "flex_flow": null,
            "grid_area": null,
            "grid_auto_columns": null,
            "grid_auto_flow": null,
            "grid_auto_rows": null,
            "grid_column": null,
            "grid_gap": null,
            "grid_row": null,
            "grid_template_areas": null,
            "grid_template_columns": null,
            "grid_template_rows": null,
            "height": null,
            "justify_content": null,
            "justify_items": null,
            "left": null,
            "margin": null,
            "max_height": null,
            "max_width": null,
            "min_height": null,
            "min_width": null,
            "object_fit": null,
            "object_position": null,
            "order": null,
            "overflow": null,
            "overflow_x": null,
            "overflow_y": null,
            "padding": null,
            "right": null,
            "top": null,
            "visibility": null,
            "width": null
          }
        },
        "2a875a6de1a648ecb554cb15d1d09d8a": {
          "model_module": "@jupyter-widgets/base",
          "model_name": "LayoutModel",
          "model_module_version": "1.2.0",
          "state": {
            "_model_module": "@jupyter-widgets/base",
            "_model_module_version": "1.2.0",
            "_model_name": "LayoutModel",
            "_view_count": null,
            "_view_module": "@jupyter-widgets/base",
            "_view_module_version": "1.2.0",
            "_view_name": "LayoutView",
            "align_content": null,
            "align_items": null,
            "align_self": null,
            "border": null,
            "bottom": null,
            "display": null,
            "flex": null,
            "flex_flow": null,
            "grid_area": null,
            "grid_auto_columns": null,
            "grid_auto_flow": null,
            "grid_auto_rows": null,
            "grid_column": null,
            "grid_gap": null,
            "grid_row": null,
            "grid_template_areas": null,
            "grid_template_columns": null,
            "grid_template_rows": null,
            "height": null,
            "justify_content": null,
            "justify_items": null,
            "left": null,
            "margin": null,
            "max_height": null,
            "max_width": null,
            "min_height": null,
            "min_width": null,
            "object_fit": null,
            "object_position": null,
            "order": null,
            "overflow": null,
            "overflow_x": null,
            "overflow_y": null,
            "padding": null,
            "right": null,
            "top": null,
            "visibility": null,
            "width": null
          }
        },
        "224f63c143a7400fbb1adf5b8b4bdf5f": {
          "model_module": "@jupyter-widgets/controls",
          "model_name": "DescriptionStyleModel",
          "model_module_version": "1.5.0",
          "state": {
            "_model_module": "@jupyter-widgets/controls",
            "_model_module_version": "1.5.0",
            "_model_name": "DescriptionStyleModel",
            "_view_count": null,
            "_view_module": "@jupyter-widgets/base",
            "_view_module_version": "1.2.0",
            "_view_name": "StyleView",
            "description_width": ""
          }
        },
        "8f2450617c1842f7978b74caa6fbd23d": {
          "model_module": "@jupyter-widgets/base",
          "model_name": "LayoutModel",
          "model_module_version": "1.2.0",
          "state": {
            "_model_module": "@jupyter-widgets/base",
            "_model_module_version": "1.2.0",
            "_model_name": "LayoutModel",
            "_view_count": null,
            "_view_module": "@jupyter-widgets/base",
            "_view_module_version": "1.2.0",
            "_view_name": "LayoutView",
            "align_content": null,
            "align_items": null,
            "align_self": null,
            "border": null,
            "bottom": null,
            "display": null,
            "flex": null,
            "flex_flow": null,
            "grid_area": null,
            "grid_auto_columns": null,
            "grid_auto_flow": null,
            "grid_auto_rows": null,
            "grid_column": null,
            "grid_gap": null,
            "grid_row": null,
            "grid_template_areas": null,
            "grid_template_columns": null,
            "grid_template_rows": null,
            "height": null,
            "justify_content": null,
            "justify_items": null,
            "left": null,
            "margin": null,
            "max_height": null,
            "max_width": null,
            "min_height": null,
            "min_width": null,
            "object_fit": null,
            "object_position": null,
            "order": null,
            "overflow": null,
            "overflow_x": null,
            "overflow_y": null,
            "padding": null,
            "right": null,
            "top": null,
            "visibility": null,
            "width": null
          }
        },
        "eca3dc03ed5445d7a16b8a80375c4a71": {
          "model_module": "@jupyter-widgets/controls",
          "model_name": "ButtonStyleModel",
          "model_module_version": "1.5.0",
          "state": {
            "_model_module": "@jupyter-widgets/controls",
            "_model_module_version": "1.5.0",
            "_model_name": "ButtonStyleModel",
            "_view_count": null,
            "_view_module": "@jupyter-widgets/base",
            "_view_module_version": "1.2.0",
            "_view_name": "StyleView",
            "button_color": null,
            "font_weight": ""
          }
        },
        "984316eaa78646adb4ab8956cf11c05e": {
          "model_module": "@jupyter-widgets/base",
          "model_name": "LayoutModel",
          "model_module_version": "1.2.0",
          "state": {
            "_model_module": "@jupyter-widgets/base",
            "_model_module_version": "1.2.0",
            "_model_name": "LayoutModel",
            "_view_count": null,
            "_view_module": "@jupyter-widgets/base",
            "_view_module_version": "1.2.0",
            "_view_name": "LayoutView",
            "align_content": null,
            "align_items": null,
            "align_self": null,
            "border": null,
            "bottom": null,
            "display": null,
            "flex": null,
            "flex_flow": null,
            "grid_area": null,
            "grid_auto_columns": null,
            "grid_auto_flow": null,
            "grid_auto_rows": null,
            "grid_column": null,
            "grid_gap": null,
            "grid_row": null,
            "grid_template_areas": null,
            "grid_template_columns": null,
            "grid_template_rows": null,
            "height": null,
            "justify_content": null,
            "justify_items": null,
            "left": null,
            "margin": null,
            "max_height": null,
            "max_width": null,
            "min_height": null,
            "min_width": null,
            "object_fit": null,
            "object_position": null,
            "order": null,
            "overflow": null,
            "overflow_x": null,
            "overflow_y": null,
            "padding": null,
            "right": null,
            "top": null,
            "visibility": null,
            "width": null
          }
        },
        "c99f883970ba4f6d8e4888a9fa835d96": {
          "model_module": "@jupyter-widgets/controls",
          "model_name": "DescriptionStyleModel",
          "model_module_version": "1.5.0",
          "state": {
            "_model_module": "@jupyter-widgets/controls",
            "_model_module_version": "1.5.0",
            "_model_name": "DescriptionStyleModel",
            "_view_count": null,
            "_view_module": "@jupyter-widgets/base",
            "_view_module_version": "1.2.0",
            "_view_name": "StyleView",
            "description_width": ""
          }
        },
        "5d6978f819964d6aaecfc64edd3c3ebd": {
          "model_module": "@jupyter-widgets/base",
          "model_name": "LayoutModel",
          "model_module_version": "1.2.0",
          "state": {
            "_model_module": "@jupyter-widgets/base",
            "_model_module_version": "1.2.0",
            "_model_name": "LayoutModel",
            "_view_count": null,
            "_view_module": "@jupyter-widgets/base",
            "_view_module_version": "1.2.0",
            "_view_name": "LayoutView",
            "align_content": null,
            "align_items": null,
            "align_self": null,
            "border": null,
            "bottom": null,
            "display": null,
            "flex": null,
            "flex_flow": null,
            "grid_area": null,
            "grid_auto_columns": null,
            "grid_auto_flow": null,
            "grid_auto_rows": null,
            "grid_column": null,
            "grid_gap": null,
            "grid_row": null,
            "grid_template_areas": null,
            "grid_template_columns": null,
            "grid_template_rows": null,
            "height": null,
            "justify_content": null,
            "justify_items": null,
            "left": null,
            "margin": null,
            "max_height": null,
            "max_width": null,
            "min_height": null,
            "min_width": null,
            "object_fit": null,
            "object_position": null,
            "order": null,
            "overflow": null,
            "overflow_x": null,
            "overflow_y": null,
            "padding": null,
            "right": null,
            "top": null,
            "visibility": null,
            "width": null
          }
        }
      }
    }
  },
  "cells": [
    {
      "cell_type": "markdown",
      "metadata": {
        "id": "view-in-github",
        "colab_type": "text"
      },
      "source": [
        "<a href=\"https://colab.research.google.com/github/hangjoni/hanoi-food-classifier/blob/master/Hanoi_Food_Classifier.ipynb\" target=\"_parent\"><img src=\"https://colab.research.google.com/assets/colab-badge.svg\" alt=\"Open In Colab\"/></a>"
      ]
    },
    {
      "cell_type": "code",
      "source": [
        "! [ -e /content ] && pip install -Uqq fastbook\n",
        "import fastbook\n",
        "fastbook.setup_book()"
      ],
      "metadata": {
        "id": "LG2qN5kr2VPn"
      },
      "execution_count": 4,
      "outputs": []
    },
    {
      "cell_type": "code",
      "execution_count": 2,
      "metadata": {
        "id": "a5TrNT5ltl36"
      },
      "outputs": [],
      "source": [
        "from fastai.vision.all import *\n",
        "from fastai.vision.widgets import *"
      ]
    },
    {
      "cell_type": "code",
      "source": [
        "path = Path()\n",
        "learn_inf = load_learner(path/'export.pkl', cpu=True)\n",
        "btn_upload = widgets.FileUpload()\n",
        "out_pl = widgets.Output()\n",
        "lbl_pred = widgets.Label()"
      ],
      "metadata": {
        "id": "obkdeSMV2KXT"
      },
      "execution_count": 5,
      "outputs": []
    },
    {
      "cell_type": "code",
      "source": [
        "def on_data_change(change):\n",
        "    lbl_pred.value = ''\n",
        "    img = PILImage.create(btn_upload.data[-1])\n",
        "    out_pl.clear_output()\n",
        "    with out_pl: display(img.to_thumb(128,128))\n",
        "    pred,pred_idx,probs = learn_inf.predict(img)\n",
        "    lbl_pred.value = f'Prediction: {pred}; Probability: {probs[pred_idx]:.04f}'"
      ],
      "metadata": {
        "id": "Mg-PQ-TJ2MJN"
      },
      "execution_count": 6,
      "outputs": []
    },
    {
      "cell_type": "code",
      "source": [
        "btn_upload.observe(on_data_change, names=['data'])"
      ],
      "metadata": {
        "id": "9HsboQ_gF6T-"
      },
      "execution_count": 7,
      "outputs": []
    },
    {
      "cell_type": "code",
      "source": [
        "display(VBox([widgets.Label('Select your bear!'), btn_upload, out_pl, lbl_pred]))"
      ],
      "metadata": {
        "colab": {
          "base_uri": "https://localhost:8080/",
          "height": 241,
          "referenced_widgets": [
            "0b665d4b4a644b7783763c21a1c68157",
            "9683070bf3ee4f8ea775288d425eb03b",
            "19240572a68a419fa49511ecadcad477",
            "844f334a95e5461abb53a0c9f8095243",
            "4551fc993ee14c89afe00d22f3ad4e16",
            "523dea9e2bff49d89920c5f3bfd3fad0",
            "2a875a6de1a648ecb554cb15d1d09d8a",
            "224f63c143a7400fbb1adf5b8b4bdf5f",
            "8f2450617c1842f7978b74caa6fbd23d",
            "eca3dc03ed5445d7a16b8a80375c4a71",
            "984316eaa78646adb4ab8956cf11c05e",
            "c99f883970ba4f6d8e4888a9fa835d96",
            "5d6978f819964d6aaecfc64edd3c3ebd"
          ]
        },
        "id": "jZwTfU4HF8OX",
        "outputId": "87016f5e-83f7-443a-96b1-329fba498503"
      },
      "execution_count": 8,
      "outputs": [
        {
          "output_type": "display_data",
          "data": {
            "text/plain": [
              "VBox(children=(Label(value='Select your bear!'), FileUpload(value={}, description='Upload'), Output(), Label(v…"
            ],
            "application/vnd.jupyter.widget-view+json": {
              "version_major": 2,
              "version_minor": 0,
              "model_id": "0b665d4b4a644b7783763c21a1c68157"
            }
          },
          "metadata": {}
        },
        {
          "output_type": "display_data",
          "data": {
            "text/plain": [
              "<IPython.core.display.HTML object>"
            ],
            "text/html": [
              "\n",
              "<style>\n",
              "    /* Turns off some styling */\n",
              "    progress {\n",
              "        /* gets rid of default border in Firefox and Opera. */\n",
              "        border: none;\n",
              "        /* Needs to be in here for Safari polyfill so background images work as expected. */\n",
              "        background-size: auto;\n",
              "    }\n",
              "    .progress-bar-interrupted, .progress-bar-interrupted::-webkit-progress-bar {\n",
              "        background: #F44336;\n",
              "    }\n",
              "</style>\n"
            ]
          },
          "metadata": {}
        },
        {
          "output_type": "display_data",
          "data": {
            "text/plain": [
              "<IPython.core.display.HTML object>"
            ],
            "text/html": [
              ""
            ]
          },
          "metadata": {}
        }
      ]
    },
    {
      "cell_type": "code",
      "source": [
        ""
      ],
      "metadata": {
        "id": "2eOZVAIEF91b"
      },
      "execution_count": null,
      "outputs": []
    }
  ]
}